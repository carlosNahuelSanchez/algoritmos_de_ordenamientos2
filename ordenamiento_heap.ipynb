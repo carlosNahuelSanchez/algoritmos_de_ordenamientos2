{
 "cells": [
  {
   "cell_type": "markdown",
   "id": "dcfa2d7e",
   "metadata": {},
   "source": [
    "# Algoritmo Heap Sort\n",
    "\n",
    "Heap Sort es un algoritmo de ordenamiento basado en una estructura de datos llamada heap (montículo). El algoritmo construye un heap máximo a partir de los datos y luego extrae el elemento más grande (la raíz) para colocarlo al final del arreglo, repitiendo el proceso hasta que el arreglo esté ordenado. Es eficiente y tiene una complejidad de tiempo O(n log n)."
   ]
  },
  {
   "cell_type": "markdown",
   "id": "bf67a885",
   "metadata": {},
   "source": [
    "## Importar librerías\n",
    "\n",
    "Se importan las librerías necesarias para la generación de datos aleatorios y la medición de tiempo."
   ]
  },
  {
   "cell_type": "code",
   "execution_count": 9,
   "id": "034b32f9",
   "metadata": {},
   "outputs": [],
   "source": [
    "import random\n",
    "import time"
   ]
  },
  {
   "cell_type": "markdown",
   "id": "fdd59b31",
   "metadata": {},
   "source": [
    "## Definición de la función heapify\n",
    "\n",
    "Esta función es utilizada por Heap Sort para mantener la propiedad de heap en una parte del arreglo."
   ]
  },
  {
   "cell_type": "code",
   "execution_count": 10,
   "id": "5bfe75af",
   "metadata": {},
   "outputs": [],
   "source": [
    "def heapify(arr, n, i):\n",
    "    largest = i\n",
    "    l = 2 * i + 1\n",
    "    r = 2 * i + 2\n",
    "\n",
    "    if l < n and arr[l] > arr[largest]:\n",
    "        largest = l\n",
    "    if r < n and arr[r] > arr[largest]:\n",
    "        largest = r\n",
    "    if largest != i:\n",
    "        arr[i], arr[largest] = arr[largest], arr[i]\n",
    "        heapify(arr, n, largest)"
   ]
  },
  {
   "cell_type": "markdown",
   "id": "f80eb2e5",
   "metadata": {},
   "source": [
    "## Definición de Heap Sort\n",
    "\n",
    "Esta función utiliza heapify para ordenar el arreglo."
   ]
  },
  {
   "cell_type": "code",
   "execution_count": 11,
   "id": "583d0280",
   "metadata": {},
   "outputs": [],
   "source": [
    "def heap_sort(arr):\n",
    "    n = len(arr)\n",
    "    for i in range(n // 2 - 1, -1, -1):\n",
    "        heapify(arr, n, i)\n",
    "    for i in range(n - 1, 0, -1):\n",
    "        arr[i], arr[0] = arr[0], arr[i]\n",
    "        heapify(arr, i, 0)"
   ]
  },
  {
   "cell_type": "markdown",
   "id": "31e14656",
   "metadata": {},
   "source": [
    "## Definición de Bubble Sort\n",
    "\n",
    "Se implementa Bubble Sort para comparar su rendimiento con Heap Sort."
   ]
  },
  {
   "cell_type": "code",
   "execution_count": 12,
   "id": "39bb2345",
   "metadata": {},
   "outputs": [],
   "source": [
    "def bubble_sort(arr):\n",
    "    n = len(arr)\n",
    "    for i in range(n):\n",
    "        for j in range(0, n-i-1):\n",
    "            if arr[j] > arr[j+1]:\n",
    "                arr[j], arr[j+1] = arr[j+1], arr[j]"
   ]
  },
  {
   "cell_type": "markdown",
   "id": "b0cee303",
   "metadata": {},
   "source": [
    "## Generación de datos y ejecución de los algoritmos\n",
    "\n",
    "Se genera una lista aleatoria y se mide el tiempo de ejecución de ambos algoritmos."
   ]
  },
  {
   "cell_type": "code",
   "execution_count": 13,
   "id": "b37d86b8",
   "metadata": {},
   "outputs": [],
   "source": [
    "lista = [random.randint(0, 100000) for _ in range(10000)]\n",
    "\n",
    "lista_heap = lista.copy()\n",
    "start_heap = time.time()\n",
    "heap_sort(lista_heap)\n",
    "end_heap = time.time()\n",
    "tiempo_heap = end_heap - start_heap\n",
    "\n",
    "lista_bubble = lista.copy()\n",
    "start_bubble = time.time()\n",
    "bubble_sort(lista_bubble)\n",
    "end_bubble = time.time()\n",
    "tiempo_bubble = end_bubble - start_bubble"
   ]
  },
  {
   "cell_type": "markdown",
   "id": "b4eb2f40",
   "metadata": {},
   "source": [
    "## Resultados\n",
    "\n",
    "Se muestran los tiempos de ejecución de Heap Sort y Bubble Sort."
   ]
  },
  {
   "cell_type": "code",
   "execution_count": 14,
   "id": "4eccc869",
   "metadata": {},
   "outputs": [
    {
     "name": "stdout",
     "output_type": "stream",
     "text": [
      "Tiempo Heap Sort: 0.0280 segundos\n",
      "Tiempo Bubble Sort: 3.4210 segundos\n"
     ]
    }
   ],
   "source": [
    "print(f\"Tiempo Heap Sort: {tiempo_heap:.4f} segundos\")\n",
    "print(f\"Tiempo Bubble Sort: {tiempo_bubble:.4f} segundos\")"
   ]
  },
  {
   "cell_type": "markdown",
   "id": "2fa00b6f",
   "metadata": {},
   "source": [
    "# Conclusión\n",
    "\n",
    "Heap Sort fue mucho más rápido que Bubble Sort en esta comparación. El resultado era esperado, ya que Heap Sort tiene una complejidad mucho menor. Me gustó el algoritmo porque es eficiente y su lógica basada en montículos es interesante y diferente a los métodos tradicionales."
   ]
  }
 ],
 "metadata": {
  "kernelspec": {
   "display_name": "env",
   "language": "python",
   "name": "python3"
  },
  "language_info": {
   "codemirror_mode": {
    "name": "ipython",
    "version": 3
   },
   "file_extension": ".py",
   "mimetype": "text/x-python",
   "name": "python",
   "nbconvert_exporter": "python",
   "pygments_lexer": "ipython3",
   "version": "3.11.0"
  }
 },
 "nbformat": 4,
 "nbformat_minor": 5
}
